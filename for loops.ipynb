{
 "cells": [
  {
   "cell_type": "markdown",
   "id": "103a39bc",
   "metadata": {},
   "source": [
    "Activity 2.2.1: count_down"
   ]
  },
  {
   "cell_type": "code",
   "execution_count": 4,
   "id": "449fde85",
   "metadata": {},
   "outputs": [
    {
     "name": "stdout",
     "output_type": "stream",
     "text": [
      "How for away are we from the cave?\n",
      "11\n",
      "\n",
      "11 steps remaining\n",
      "10 steps remaining\n",
      "9 steps remaining\n",
      "8 steps remaining\n",
      "7 steps remaining\n",
      "6 steps remaining\n",
      "5 steps remaining\n",
      "4 steps remaining\n",
      "3 steps remaining\n",
      "2 steps remaining\n",
      "1 steps remaining\n",
      "We have reached the cave!\n"
     ]
    }
   ],
   "source": [
    "print(\"How for away are we from the cave?\")\n",
    "distance = int(input())\n",
    "\n",
    "print()\n",
    "\n",
    "for count in range (distance, 0, -1):\n",
    "    print(f\"{count} steps remaining\")\n",
    "    \n",
    "print(\"We have reached the cave!\")"
   ]
  },
  {
   "cell_type": "markdown",
   "id": "3466a871",
   "metadata": {},
   "source": [
    "Activity 2.2.2: range"
   ]
  },
  {
   "cell_type": "code",
   "execution_count": 6,
   "id": "342cc783",
   "metadata": {},
   "outputs": [
    {
     "name": "stdout",
     "output_type": "stream",
     "text": [
      "What level of brightness is required?(Even numbers only)\n",
      "6\n",
      "Beep's brightness level: **\n",
      "Bop's brightness level: **\n",
      "Beep's brightness level: ****\n",
      "Bop's brightness level: ****\n",
      "Beep's brightness level: ******\n",
      "Bop's brightness level: ******\n",
      "Adjustments complete!\n"
     ]
    }
   ],
   "source": [
    "print(\"What level of brightness is required?(Even numbers only)\")\n",
    "brightness_desired = int(input())\n",
    "\n",
    "for brightness in range (2, brightness_desired + 1, 2):\n",
    "    print(f\"Beep's brightness level: {'*' * brightness}\")\n",
    "    print(f\"Bop's brightness level: {'*' * brightness}\")\n",
    "\n",
    "print(\"Adjustments complete!\")"
   ]
  },
  {
   "cell_type": "code",
   "execution_count": null,
   "id": "68e3dd86",
   "metadata": {},
   "outputs": [],
   "source": []
  }
 ],
 "metadata": {
  "kernelspec": {
   "display_name": "Python 3 (ipykernel)",
   "language": "python",
   "name": "python3"
  },
  "language_info": {
   "codemirror_mode": {
    "name": "ipython",
    "version": 3
   },
   "file_extension": ".py",
   "mimetype": "text/x-python",
   "name": "python",
   "nbconvert_exporter": "python",
   "pygments_lexer": "ipython3",
   "version": "3.9.12"
  }
 },
 "nbformat": 4,
 "nbformat_minor": 5
}
