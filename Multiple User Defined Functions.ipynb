{
 "cells": [
  {
   "cell_type": "markdown",
   "id": "a21c7ba8",
   "metadata": {},
   "source": [
    "Activity 2.3.1: multiple_functions"
   ]
  },
  {
   "cell_type": "code",
   "execution_count": 4,
   "id": "f2443d8c",
   "metadata": {},
   "outputs": [
    {
     "name": "stdout",
     "output_type": "stream",
     "text": [
      "Please enter the number of steps\n",
      "7\n",
      "| |\n",
      "***\n",
      "| |\n",
      "***\n",
      "| |\n",
      "***\n",
      "| |\n",
      "***\n",
      "| |\n",
      "***\n",
      "| |\n",
      "***\n",
      "| |\n",
      "***\n",
      "| |\n"
     ]
    }
   ],
   "source": [
    "def display_ladder(steps):\n",
    "    for step in range(steps):\n",
    "        print(\"| |\")\n",
    "        print(\"***\")\n",
    "    print(\"| |\")\n",
    "def create_ladder():\n",
    "    print(\"Please enter the number of steps\")\n",
    "    steps = int(input())\n",
    "    display_ladder(steps)\n",
    "    \n",
    "create_ladder()"
   ]
  },
  {
   "cell_type": "markdown",
   "id": "98514ad7",
   "metadata": {},
   "source": [
    "Activity 2.3.2: return_values"
   ]
  },
  {
   "cell_type": "code",
   "execution_count": 12,
   "id": "7beb5219",
   "metadata": {},
   "outputs": [
    {
     "name": "stdout",
     "output_type": "stream",
     "text": [
      "Please enter bop's weight\n",
      "10\n",
      "Please enter boop's weight\n",
      "10\n",
      "Would you like the sum or the average of the two weights?\n",
      "sum\n",
      "The sum of Beep's and Bop's weight is 20.00\n"
     ]
    }
   ],
   "source": [
    "def sum_weights(bop_weight,boop_weight):\n",
    "    total_weight = bop_weight + boop_weight\n",
    "    return total_weight\n",
    "\n",
    "def calc_average_weight(bop_weight,boop_weight):\n",
    "    average_weight = summed_weight / 2\n",
    "    return average_weight\n",
    "    \n",
    "def run():\n",
    "    print(\"Please enter bop's weight\")\n",
    "    bop_weight = int(input())\n",
    "    print(\"Please enter boop's weight\")\n",
    "    boop_weight = int(input())\n",
    "    print(\"Would you like the sum or the average of the two weights?\")\n",
    "    sum = input()\n",
    "    \n",
    "    if sum == 'sum':\n",
    "        answer = sum_weights(bop_weight, boop_weight)\n",
    "        print(f\"The sum of Beep's and Bop's weight is {answer:.2f}\")\n",
    "    elif sum == 'average':\n",
    "        answer = average_weight(bop_weight, boop_weight)\n",
    "        print(f\"The average of Beep's and Bop's weight is {answer:.2f}\")\n",
    "\n",
    "run()"
   ]
  },
  {
   "cell_type": "code",
   "execution_count": null,
   "id": "2c606a26",
   "metadata": {},
   "outputs": [],
   "source": []
  }
 ],
 "metadata": {
  "kernelspec": {
   "display_name": "Python 3 (ipykernel)",
   "language": "python",
   "name": "python3"
  },
  "language_info": {
   "codemirror_mode": {
    "name": "ipython",
    "version": 3
   },
   "file_extension": ".py",
   "mimetype": "text/x-python",
   "name": "python",
   "nbconvert_exporter": "python",
   "pygments_lexer": "ipython3",
   "version": "3.9.12"
  }
 },
 "nbformat": 4,
 "nbformat_minor": 5
}
