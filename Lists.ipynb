{
 "cells": [
  {
   "cell_type": "markdown",
   "id": "bda1fa17",
   "metadata": {},
   "source": [
    "Activity 2.1.1: simple_list"
   ]
  },
  {
   "cell_type": "code",
   "execution_count": 4,
   "id": "ad4d897d",
   "metadata": {},
   "outputs": [
    {
     "name": "stdout",
     "output_type": "stream",
     "text": [
      "['Move Forward', 'Move Backward', 'Turn Left', 'Turn Right']\n"
     ]
    }
   ],
   "source": [
    "def directions():\n",
    "    directions = [\"Move Forward\", \"Move Backward\", \"Turn Left\", \"Turn Right\"]\n",
    "    return directions\n",
    "\n",
    "def run():\n",
    "    print(directions())\n",
    "    \n",
    "if __name__ == '__main__':\n",
    "    run()"
   ]
  },
  {
   "cell_type": "markdown",
   "id": "480f868b",
   "metadata": {},
   "source": [
    "Activity 2.1.2: index_list"
   ]
  },
  {
   "cell_type": "code",
   "execution_count": 7,
   "id": "58527481",
   "metadata": {},
   "outputs": [
    {
     "name": "stdout",
     "output_type": "stream",
     "text": [
      "Moving....\n",
      "Move Forward for 10 steps\n",
      "Move Backward for 5 steps\n",
      "Move Left for 3 steps\n",
      "Move Right for 1 steps\n"
     ]
    }
   ],
   "source": [
    "def movements():\n",
    "    path = [\"Move Forward\", 10, \"Move Backward\", 5, \"Move Left\", 3, \"Move Right\", 1]\n",
    "    return path\n",
    "def run():\n",
    "    print(\"Moving....\")\n",
    "    path = movements()\n",
    "    print(f\"{path[0]} for {path[1]} steps\")\n",
    "    print(f\"{path[2]} for {path[3]} steps\")\n",
    "    print(f\"{path[4]} for {path[5]} steps\")\n",
    "    print(f\"{path[6]} for {path[7]} steps\")\n",
    "\n",
    "if __name__ == \"__main__\":\n",
    "  run()"
   ]
  },
  {
   "cell_type": "markdown",
   "id": "10d1f5e2",
   "metadata": {},
   "source": [
    "Activity 2.1.3: iterate_list"
   ]
  },
  {
   "cell_type": "code",
   "execution_count": 10,
   "id": "2da8ed35",
   "metadata": {},
   "outputs": [
    {
     "name": "stdout",
     "output_type": "stream",
     "text": [
      "Please select a direction\n",
      "0: Move Forward\n",
      "1: Move Backward\n",
      "2: Turn Left\n",
      "3: Turn Right\n"
     ]
    }
   ],
   "source": [
    "def directions():\n",
    "    directions = [\"Move Forward\", \"Move Backward\", \"Turn Left\", \"Turn Right\"]\n",
    "    return directions\n",
    "\n",
    "def menu():\n",
    "    print(\"Please select a direction\")\n",
    "    dirs = directions()\n",
    "    for index in range(len(dirs)):\n",
    "        print(f\"{index}: {dirs[index]}\")\n",
    "\n",
    "def run():\n",
    "    menu()\n",
    "\n",
    "if __name__ == \"__main__\":\n",
    "  run()"
   ]
  },
  {
   "cell_type": "markdown",
   "id": "96af115c",
   "metadata": {},
   "source": [
    "Activity 2.1.4: populate_list"
   ]
  },
  {
   "cell_type": "code",
   "execution_count": null,
   "id": "1c272184",
   "metadata": {},
   "outputs": [
    {
     "name": "stdout",
     "output_type": "stream",
     "text": [
      "Working out escape route...\n",
      "Please select a direction:\n",
      "0: Move Forward\n",
      "1: Move Backward\n",
      "2: Turn Left\n",
      "3: Turn Right\n",
      "0\n",
      "Please select a direction:\n",
      "0: Move Forward\n",
      "1: Move Backward\n",
      "2: Turn Left\n",
      "3: Turn Right\n",
      "1\n",
      "Please select a direction:\n",
      "0: Move Forward\n",
      "1: Move Backward\n",
      "2: Turn Left\n",
      "3: Turn Right\n",
      "1\n",
      "Please select a direction:\n",
      "0: Move Forward\n",
      "1: Move Backward\n",
      "2: Turn Left\n",
      "3: Turn Right\n",
      "1\n",
      "Please select a direction:\n",
      "0: Move Forward\n",
      "1: Move Backward\n",
      "2: Turn Left\n",
      "3: Turn Right\n"
     ]
    }
   ],
   "source": [
    "def directions():\n",
    "  directions = [\"Move Forward\", \"Move Backward\", \"Turn Left\", \"Turn Right\"]\n",
    "  return directions\n",
    "\n",
    "def menu():\n",
    "  print(\"Please select a direction:\")\n",
    "  dirs = directions()\n",
    "  for index in range(len(dirs)):\n",
    "    print(f\"{index}: {dirs[index]}\")\n",
    "  index = int(input())\n",
    "  return dirs[index]\n",
    "\n",
    "def run():\n",
    "  route = []\n",
    "  print(\"Working out escape route...\")\n",
    "  for count in range(5):\n",
    "    route.append(menu())\n",
    "  print(f\"Escape route: {route}\")\n",
    "\n",
    "if __name__ == \"__main__\":\n",
    "  run()"
   ]
  },
  {
   "cell_type": "code",
   "execution_count": null,
   "id": "3f5fa23e",
   "metadata": {},
   "outputs": [],
   "source": []
  }
 ],
 "metadata": {
  "kernelspec": {
   "display_name": "Python 3 (ipykernel)",
   "language": "python",
   "name": "python3"
  },
  "language_info": {
   "codemirror_mode": {
    "name": "ipython",
    "version": 3
   },
   "file_extension": ".py",
   "mimetype": "text/x-python",
   "name": "python",
   "nbconvert_exporter": "python",
   "pygments_lexer": "ipython3",
   "version": "3.9.12"
  }
 },
 "nbformat": 4,
 "nbformat_minor": 5
}
