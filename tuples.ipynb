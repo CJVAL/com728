{
 "cells": [
  {
   "cell_type": "markdown",
   "id": "bb1f23ed",
   "metadata": {},
   "source": [
    "Activity 2.1.1: simple_tuple"
   ]
  },
  {
   "cell_type": "code",
   "execution_count": 6,
   "id": "efbee11f",
   "metadata": {},
   "outputs": [
    {
     "name": "stdout",
     "output_type": "stream",
     "text": [
      "Minimum likelihood of falling: 4%\n"
     ]
    }
   ],
   "source": [
    "def likelihood():\n",
    "    likelihoods = (50, 38, 27, 99, 4)\n",
    "    return min (likelihoods)\n",
    "def run():\n",
    "    print(f\"Minimum likelihood of falling: {likelihood()}%\")\n",
    "\n",
    "if __name__ == \"__main__\":\n",
    "  run()"
   ]
  },
  {
   "cell_type": "markdown",
   "id": "54717709",
   "metadata": {},
   "source": [
    "Activity 2.1.2: function_tuple"
   ]
  },
  {
   "cell_type": "code",
   "execution_count": 13,
   "id": "02832ff4",
   "metadata": {},
   "outputs": [
    {
     "name": "stdout",
     "output_type": "stream",
     "text": [
      "Minimum likelihood of falling: 4%\n",
      "Maximum likelihood of falling: 99%\n"
     ]
    }
   ],
   "source": [
    "def likelihood():\n",
    "    likelihoods = (50, 38, 27, 99, 4)\n",
    "    return min (likelihoods), max (likelihoods)\n",
    "def run():\n",
    "  probabilities = likelihood()\n",
    "  print(f\"Minimum likelihood of falling: {probabilities[0]}%\")\n",
    "  print(f\"Maximum likelihood of falling: {probabilities[1]}%\")\n",
    "\n",
    "if __name__ == \"__main__\":\n",
    "  run()"
   ]
  },
  {
   "cell_type": "markdown",
   "id": "e1c628f2",
   "metadata": {},
   "source": [
    "Activity 2.1.3: nested_tuple"
   ]
  },
  {
   "cell_type": "code",
   "execution_count": 28,
   "id": "deebfc84",
   "metadata": {},
   "outputs": [
    {
     "name": "stdout",
     "output_type": "stream",
     "text": [
      "Good steps: 3, Bad steps: 2\n"
     ]
    }
   ],
   "source": [
    "def steps():\n",
    "  all_steps = [(\"step 1\", 50), (\"step 2\", 38), (\"step 3\", 27), (\"step 4\", 99), (\"step 5\", 4)]\n",
    "  return all_steps\n",
    "\n",
    "def run():\n",
    "  all_steps = steps()\n",
    "  good_steps = []\n",
    "  bad_steps = []\n",
    "  \n",
    "  for step in all_steps:\n",
    "    if (step[1] >= 50):\n",
    "      bad_steps.append(step)\n",
    "    else:\n",
    "      good_steps.append(step) \n",
    "\n",
    "  print(f\"Good steps: {len(good_steps)}, Bad steps: {len(bad_steps)}\")\n",
    "\n",
    "if __name__ == \"__main__\":\n",
    "  run()"
   ]
  },
  {
   "cell_type": "code",
   "execution_count": null,
   "id": "c3b5798e",
   "metadata": {},
   "outputs": [],
   "source": []
  }
 ],
 "metadata": {
  "kernelspec": {
   "display_name": "Python 3 (ipykernel)",
   "language": "python",
   "name": "python3"
  },
  "language_info": {
   "codemirror_mode": {
    "name": "ipython",
    "version": 3
   },
   "file_extension": ".py",
   "mimetype": "text/x-python",
   "name": "python",
   "nbconvert_exporter": "python",
   "pygments_lexer": "ipython3",
   "version": "3.9.12"
  }
 },
 "nbformat": 4,
 "nbformat_minor": 5
}
