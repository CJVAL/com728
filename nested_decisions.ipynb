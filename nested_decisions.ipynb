{
 "cells": [
  {
   "cell_type": "markdown",
   "id": "d7f307dc",
   "metadata": {},
   "source": [
    "Activity 2.2.1: Nested"
   ]
  },
  {
   "cell_type": "code",
   "execution_count": 13,
   "id": "846e9791",
   "metadata": {},
   "outputs": [
    {
     "name": "stdout",
     "output_type": "stream",
     "text": [
      "What type of cover does this book have? (hard or soft)\n",
      "soft\n",
      "Is the book perfect bound?\n",
      "yes\n",
      "Soft cover, perfect bound books are very popular!\n"
     ]
    }
   ],
   "source": [
    "print(\"What type of cover does this book have? (hard or soft)\")\n",
    "cover_type=input()\n",
    "\n",
    "if cover_type == 'soft':\n",
    "    print(\"Is the book perfect bound?\")\n",
    "    bound=input()\n",
    "\n",
    "    if bound == 'yes':\n",
    "        print(\"Soft cover, perfect bound books are very popular!\")\n",
    "    else:\n",
    "        print(\"Soft covers with coils or stitches are great for short books\")\n",
    "else:\n",
    "    print(\"Books with hard covers can be more expensive!\")"
   ]
  },
  {
   "cell_type": "markdown",
   "id": "97dcfc69",
   "metadata": {},
   "source": [
    "Activity 2.2.2: multi_nested_decision"
   ]
  },
  {
   "cell_type": "code",
   "execution_count": 19,
   "id": "2539a963",
   "metadata": {},
   "outputs": [
    {
     "name": "stdout",
     "output_type": "stream",
     "text": [
      "Where should i look?\n",
      "cum\n",
      "I do not know where that is but I will keep looking.\n"
     ]
    }
   ],
   "source": [
    "print(\"Where should i look?\")\n",
    "place = input()\n",
    "\n",
    "if place == 'in the bedroom':\n",
    "    print(\"Where in the bedroom should I look?\")\n",
    "    bedroom_place = input()\n",
    "    \n",
    "    if bedroom_place == 'under the bed':\n",
    "        print(\"Found some shoes but no battery\")\n",
    "    else:\n",
    "        print(\"Found some mess but no battery.\")\n",
    "elif place == 'in the bathroom':\n",
    "    print(\"Where in the bathroom should I look?\")\n",
    "    bathroom_place = input()\n",
    "    \n",
    "    if bathroom_place == 'in the bathtub':\n",
    "        print(\"Found a rubber duck but no battery\")\n",
    "    else:\n",
    "        print(\"Found a wet surface but no battery.\")\n",
    "elif place == 'in the lab':\n",
    "    print(\"Where in the lab should I look?\")\n",
    "    lab_place = input()\n",
    "    \n",
    "    if lab_place == 'on the table':\n",
    "        print(\"Yes! I found my battery!\")\n",
    "    else:\n",
    "        print(\"Found some tools but no battery.\")\n",
    "else:\n",
    "    print(\"I do not know where that is but I will keep looking.\")"
   ]
  },
  {
   "cell_type": "code",
   "execution_count": null,
   "id": "0334ca93",
   "metadata": {},
   "outputs": [],
   "source": []
  }
 ],
 "metadata": {
  "kernelspec": {
   "display_name": "Python 3 (ipykernel)",
   "language": "python",
   "name": "python3"
  },
  "language_info": {
   "codemirror_mode": {
    "name": "ipython",
    "version": 3
   },
   "file_extension": ".py",
   "mimetype": "text/x-python",
   "name": "python",
   "nbconvert_exporter": "python",
   "pygments_lexer": "ipython3",
   "version": "3.9.12"
  }
 },
 "nbformat": 4,
 "nbformat_minor": 5
}
