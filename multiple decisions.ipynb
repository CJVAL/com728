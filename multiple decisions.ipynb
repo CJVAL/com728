{
 "cells": [
  {
   "cell_type": "markdown",
   "id": "cdbbe590",
   "metadata": {},
   "source": [
    "Activity 2.2.1: Or_operator"
   ]
  },
  {
   "cell_type": "code",
   "execution_count": 1,
   "id": "291a1aa6",
   "metadata": {},
   "outputs": [
    {
     "name": "stdout",
     "output_type": "stream",
     "text": [
      "Please enter the type of adventure\n",
      "short\n",
      "Entering the dark forest!\n"
     ]
    }
   ],
   "source": [
    "print(\"Please enter the type of adventure\")\n",
    "adventure_type=input()\n",
    "\n",
    "if adventure_type == 'scary' or 'short':\n",
    "    print(\"Entering the dark forest!\")\n",
    "elif adventure_type == 'safe' or 'long':\n",
    "    print(\"Taking the safe route!\")\n",
    "else:\n",
    "    print(\"Im not sure which route to take\")\n",
    "\n"
   ]
  },
  {
   "cell_type": "markdown",
   "id": "bd38b9ef",
   "metadata": {},
   "source": [
    "Activity 2.2.2: and_operator"
   ]
  },
  {
   "cell_type": "code",
   "execution_count": 8,
   "id": "d1387149",
   "metadata": {},
   "outputs": [
    {
     "name": "stdout",
     "output_type": "stream",
     "text": [
      "What did i hear?\n",
      "grr\n",
      "Grr\n",
      "What did i see?\n",
      "two red eyes\n",
      "Two Red Eyes\n",
      "There is a scary creature. I should get out of here!\n"
     ]
    }
   ],
   "source": [
    "print(\"What did i hear?\")\n",
    "noise=input()\n",
    "print(noise.title())\n",
    "\n",
    "print(\"What did i see?\")\n",
    "sight=input()\n",
    "print(sight.title())\n",
    "\n",
    "if noise == 'grr' and sight == 'two red eyes':\n",
    "    print(\"There is a scary creature. I should get out of here!\")\n",
    "else:\n",
    "    print(\"I am a little scared but I will continue.\")"
   ]
  },
  {
   "cell_type": "code",
   "execution_count": null,
   "id": "7528e062",
   "metadata": {},
   "outputs": [],
   "source": []
  }
 ],
 "metadata": {
  "kernelspec": {
   "display_name": "Python 3 (ipykernel)",
   "language": "python",
   "name": "python3"
  },
  "language_info": {
   "codemirror_mode": {
    "name": "ipython",
    "version": 3
   },
   "file_extension": ".py",
   "mimetype": "text/x-python",
   "name": "python",
   "nbconvert_exporter": "python",
   "pygments_lexer": "ipython3",
   "version": "3.9.12"
  }
 },
 "nbformat": 4,
 "nbformat_minor": 5
}
