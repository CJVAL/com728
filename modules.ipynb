{
 "cells": [
  {
   "cell_type": "markdown",
   "id": "e4dd0659",
   "metadata": {},
   "source": [
    "Activity 2.4.1: guess_the_number"
   ]
  },
  {
   "cell_type": "code",
   "execution_count": 1,
   "id": "42a4d678",
   "metadata": {},
   "outputs": [],
   "source": [
    "import random"
   ]
  },
  {
   "cell_type": "code",
   "execution_count": 2,
   "id": "16cd4de1",
   "metadata": {},
   "outputs": [
    {
     "name": "stdout",
     "output_type": "stream",
     "text": [
      "Please enter the minimum value\n",
      "1\n",
      "Please enter the maximum value\n",
      "5\n",
      "I am thinking of a number between 1 and 5! \n",
      "Can you guess what it is?\n",
      "Please enter your guess\n",
      "1\n",
      "Congratulations you guessed the number!\n",
      "Game Over!\n"
     ]
    }
   ],
   "source": [
    "print(\"Please enter the minimum value\")\n",
    "minimum_number = int(input())\n",
    "print(\"Please enter the maximum value\")\n",
    "maximum_value = int(input())\n",
    "\n",
    "generated_number = random.randint(minimum_number, maximum_value)\n",
    "print(f\"I am thinking of a number between {minimum_number} and {maximum_value}! \\nCan you guess what it is?\")\n",
    "\n",
    "guessed_correctly = False\n",
    "\n",
    "while not guessed_correctly:\n",
    "    print(\"Please enter your guess\")\n",
    "    user_guess = int(input())\n",
    "    \n",
    "    if user_guess == generated_number:\n",
    "        print(\"Congratulations you guessed the number!\")\n",
    "        guessed_correctly = True\n",
    "    elif user_guess > generated_number:\n",
    "        print(f\"The number {user_guess} is too high\")\n",
    "    elif user_guess < generated_number:\n",
    "        print(f\"The number {user_guess} is too low\")\n",
    "print(\"Game Over!\")"
   ]
  },
  {
   "cell_type": "code",
   "execution_count": null,
   "id": "9b0791d4",
   "metadata": {},
   "outputs": [],
   "source": []
  }
 ],
 "metadata": {
  "kernelspec": {
   "display_name": "Python 3 (ipykernel)",
   "language": "python",
   "name": "python3"
  },
  "language_info": {
   "codemirror_mode": {
    "name": "ipython",
    "version": 3
   },
   "file_extension": ".py",
   "mimetype": "text/x-python",
   "name": "python",
   "nbconvert_exporter": "python",
   "pygments_lexer": "ipython3",
   "version": "3.9.12"
  }
 },
 "nbformat": 4,
 "nbformat_minor": 5
}
