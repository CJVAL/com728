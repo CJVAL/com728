{
 "cells": [
  {
   "cell_type": "markdown",
   "id": "fc1dc0cc",
   "metadata": {},
   "source": [
    "Activity 2.1.1: Simple loop"
   ]
  },
  {
   "cell_type": "code",
   "execution_count": 1,
   "id": "6d26e034",
   "metadata": {},
   "outputs": [
    {
     "name": "stdout",
     "output_type": "stream",
     "text": [
      "How many cables should i remove?\n",
      "3\n",
      "You want to remove 3 cables\n",
      "Cable removed\n",
      "Cable removed\n",
      "Cable removed\n"
     ]
    }
   ],
   "source": [
    "print(\"How many cables should i remove?\")\n",
    "cables_to_remove=int(input())\n",
    "print(f\"You want to remove {cables_to_remove} cables\")\n",
    "\n",
    "cables_removed=0\n",
    "\n",
    "while cables_removed < cables_to_remove:\n",
    "    print(\"Cable removed\")\n",
    "    cables_removed = cables_removed + 1"
   ]
  },
  {
   "cell_type": "markdown",
   "id": "073166df",
   "metadata": {},
   "source": [
    "Activity 2.1.2: count"
   ]
  },
  {
   "cell_type": "code",
   "execution_count": 2,
   "id": "b3e765c5",
   "metadata": {},
   "outputs": [
    {
     "name": "stdout",
     "output_type": "stream",
     "text": [
      "How many live cables should i avoid?\n",
      "4\n",
      "Avoiding..... Done! 0 live cable avoided!\n",
      "Avoiding..... Done! 1 live cable avoided!\n",
      "Avoiding..... Done! 2 live cable avoided!\n",
      "Avoiding..... Done! 3 live cable avoided!\n"
     ]
    }
   ],
   "source": [
    "print(\"How many live cables should i avoid?\")\n",
    "cables_to_remove = int(input())\n",
    "\n",
    "live_cables = 0\n",
    "\n",
    "while cables_to_remove > live_cables:\n",
    "    print(f\"Avoiding..... Done! {live_cables} live cable avoided!\")\n",
    "    live_cables = live_cables + 1"
   ]
  },
  {
   "cell_type": "markdown",
   "id": "bd8713d9",
   "metadata": {},
   "source": [
    "Activity 2.1.3: ascii"
   ]
  },
  {
   "cell_type": "code",
   "execution_count": 3,
   "id": "4c670b26",
   "metadata": {},
   "outputs": [
    {
     "name": "stdout",
     "output_type": "stream",
     "text": [
      "How many bars should be changed?\n",
      "7\n",
      "Charging: █\n",
      "Charging: ██\n",
      "Charging: ███\n",
      "Charging: ████\n",
      "Charging: █████\n",
      "Charging: ██████\n",
      "Charging: ███████\n",
      "The battery is fully charged!\n"
     ]
    }
   ],
   "source": [
    "print(\"How many bars should be changed?\")\n",
    "bars_to_charge = int(input())\n",
    "\n",
    "bars_charged = 0\n",
    "\n",
    "while bars_charged < bars_to_charge:\n",
    "    bars_charged = bars_charged + 1\n",
    "    print(f\"Charging: {'█' * bars_charged}\")\n",
    "\n",
    "print(\"The battery is fully charged!\")"
   ]
  },
  {
   "cell_type": "markdown",
   "id": "44b42386",
   "metadata": {},
   "source": [
    "Activity 2.1.4: 'sum_100"
   ]
  },
  {
   "cell_type": "code",
   "execution_count": 4,
   "id": "bc65d3b3",
   "metadata": {},
   "outputs": [
    {
     "name": "stdout",
     "output_type": "stream",
     "text": [
      "Calculating the sum of the first 100 numbers!\n",
      "The total is 5050\n"
     ]
    }
   ],
   "source": [
    "print(\"Calculating the sum of the first 100 numbers!\")\n",
    "number = 1\n",
    "\n",
    "total = 0\n",
    "\n",
    "while number <= 100:\n",
    "    total = total + number\n",
    "    number = number + 1\n",
    "\n",
    "print(f\"The total is {total}\")"
   ]
  },
  {
   "cell_type": "markdown",
   "id": "2ed1d973",
   "metadata": {},
   "source": [
    "Activity 2.1.5: 'sum_user_numbers"
   ]
  },
  {
   "cell_type": "code",
   "execution_count": 6,
   "id": "c869d28c",
   "metadata": {},
   "outputs": [
    {
     "name": "stdout",
     "output_type": "stream",
     "text": [
      "How many numbers should i sum up?\n",
      "5\n",
      "Please input number 0 of 5\n",
      "5\n",
      "Please input number 1 of 5\n",
      "5\n",
      "Please input number 2 of 5\n",
      "5\n",
      "Please input number 3 of 5\n",
      "5\n",
      "Please input number 4 of 5\n",
      "5\n",
      "The total is 25\n"
     ]
    }
   ],
   "source": [
    "print(\"How many numbers should i sum up?\")\n",
    "number_to_sum = int(input())\n",
    "\n",
    "left_to_sum = 0\n",
    "\n",
    "total = 0\n",
    "while left_to_sum < number_to_sum:\n",
    "    print(f\"Please input number {left_to_sum} of {number_to_sum}\")\n",
    "    number = int(input())\n",
    "    total = total + number\n",
    "    left_to_sum = left_to_sum + 1\n",
    "\n",
    "print(f\"The total is {total}\")"
   ]
  },
  {
   "cell_type": "code",
   "execution_count": null,
   "id": "7b5d1996",
   "metadata": {},
   "outputs": [],
   "source": []
  }
 ],
 "metadata": {
  "kernelspec": {
   "display_name": "Python 3 (ipykernel)",
   "language": "python",
   "name": "python3"
  },
  "language_info": {
   "codemirror_mode": {
    "name": "ipython",
    "version": 3
   },
   "file_extension": ".py",
   "mimetype": "text/x-python",
   "name": "python",
   "nbconvert_exporter": "python",
   "pygments_lexer": "ipython3",
   "version": "3.9.12"
  }
 },
 "nbformat": 4,
 "nbformat_minor": 5
}
