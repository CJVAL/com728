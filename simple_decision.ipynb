{
 "cells": [
  {
   "cell_type": "markdown",
   "id": "28d423cb",
   "metadata": {},
   "source": [
    "Activity 2.1.1: if_statement"
   ]
  },
  {
   "cell_type": "code",
   "execution_count": 20,
   "id": "3af3f718",
   "metadata": {},
   "outputs": [
    {
     "name": "stdout",
     "output_type": "stream",
     "text": [
      "What type of book is this?\n",
      "adventure\n",
      "I love adventure books\n"
     ]
    }
   ],
   "source": [
    "print(\"What type of book is this?\")\n",
    "booktype=input()\n",
    "\n",
    "if booktype == 'adventure':\n",
    "    print(\"I love adventure books\")"
   ]
  },
  {
   "cell_type": "markdown",
   "id": "4c797cfe",
   "metadata": {},
   "source": [
    "Activity 2.1.2: if_else statement"
   ]
  },
  {
   "cell_type": "code",
   "execution_count": 24,
   "id": "1dc446be",
   "metadata": {},
   "outputs": [
    {
     "name": "stdout",
     "output_type": "stream",
     "text": [
      "Please entre the type of activity to be performed:\n",
      "cheese\n",
      "performing activity\n"
     ]
    }
   ],
   "source": [
    "print(\"Please entre the type of activity to be performed:\")\n",
    "activity=input()\n",
    "\n",
    "if activity == 'calculate':\n",
    "    print(\"Performing calculations\")\n",
    "else:\n",
    "    print(\"performing activity\")"
   ]
  },
  {
   "cell_type": "markdown",
   "id": "9502a9b7",
   "metadata": {},
   "source": [
    "Activity 2.1.3: if_elif_else statement"
   ]
  },
  {
   "cell_type": "code",
   "execution_count": 31,
   "id": "70f2d6d3",
   "metadata": {},
   "outputs": [
    {
     "name": "stdout",
     "output_type": "stream",
     "text": [
      "Please enter a direction i should paint in? (eg. up, down, left, right)\n",
      "floob\n",
      "Thats not a direction\n"
     ]
    }
   ],
   "source": [
    "print(\"Please enter a direction i should paint in? (eg. up, down, left, right)\")\n",
    "direction=input()\n",
    "\n",
    "if direction == 'up':\n",
    "    print(\"I am painting in the upward direction\")\n",
    "elif direction == 'down':\n",
    "    print(\"I am printing in the downward direction\")\n",
    "elif direction == 'left':\n",
    "    print(\"I am printing to the left\")\n",
    "elif direction == 'right':\n",
    "    print(\"I am prining to the right\")\n",
    "else:\n",
    "    print (\"Thats not a direction\")"
   ]
  },
  {
   "cell_type": "markdown",
   "id": "91e95b19",
   "metadata": {},
   "source": [
    "Activity 2.1.4: 'modulo_operator"
   ]
  },
  {
   "cell_type": "code",
   "execution_count": 44,
   "id": "94ee26cd",
   "metadata": {},
   "outputs": [
    {
     "name": "stdout",
     "output_type": "stream",
     "text": [
      "Please enter a whole number\n",
      "2\n",
      "The number 2.0 is an even number\n"
     ]
    }
   ],
   "source": [
    "print(\"Please enter a whole number\")\n",
    "number=float(input())\n",
    "\n",
    "if number % 2 == 0:\n",
    "    print(f\"The number {number} is an even number\")\n",
    "else:\n",
    "    print(f\"The number {number} is an odd number\")"
   ]
  },
  {
   "cell_type": "markdown",
   "id": "00b143db",
   "metadata": {},
   "source": [
    "Activity 2.1.5: Comparison Operators"
   ]
  },
  {
   "cell_type": "code",
   "execution_count": 1,
   "id": "51196d43",
   "metadata": {},
   "outputs": [
    {
     "name": "stdout",
     "output_type": "stream",
     "text": [
      "Please enter the first number\n",
      "5\n",
      "Your first number is 5.0\n",
      "Please enter your second number\n",
      "5\n",
      "Your second number is 5.0\n",
      "Your first number, 5.0, is equal to your second number, 5.0\n"
     ]
    }
   ],
   "source": [
    "print(\"Please enter the first number\")\n",
    "first_number=float(input())\n",
    "print(f\"Your first number is {first_number}\")\n",
    "print(\"Please enter your second number\")\n",
    "second_number=float(input())\n",
    "print(f\"Your second number is {second_number}\")\n",
    "\n",
    "if first_number > second_number:\n",
    "    print(f\"Your first number, {first_number}, is bigger than your second number, {second_number}\")\n",
    "elif first_number < second_number:\n",
    "    print(f\"Your first number, {first_number}, is smaller than your second number, {second_number}\")\n",
    "elif first_number == second_number:\n",
    "    print(f\"Your first number, {first_number}, is equal to your second number, {second_number}\")\n",
    "else:\n",
    "    print(\"Error, error, error\")"
   ]
  }
 ],
 "metadata": {
  "kernelspec": {
   "display_name": "Python 3 (ipykernel)",
   "language": "python",
   "name": "python3"
  },
  "language_info": {
   "codemirror_mode": {
    "name": "ipython",
    "version": 3
   },
   "file_extension": ".py",
   "mimetype": "text/x-python",
   "name": "python",
   "nbconvert_exporter": "python",
   "pygments_lexer": "ipython3",
   "version": "3.9.12"
  }
 },
 "nbformat": 4,
 "nbformat_minor": 5
}
