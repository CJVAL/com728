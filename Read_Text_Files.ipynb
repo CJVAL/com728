{
 "cells": [
  {
   "cell_type": "markdown",
   "id": "b586c45c",
   "metadata": {},
   "source": [
    "Activity 2.1.1: read_all"
   ]
  },
  {
   "cell_type": "code",
   "execution_count": 3,
   "id": "b738e0cd",
   "metadata": {},
   "outputs": [
    {
     "name": "stdout",
     "output_type": "stream",
     "text": [
      "No one has ever become poor by giving. [Anne Frank]\n",
      "\n",
      "What’s in a name? A rose by any other name would smell as sweet. [Shakespeare]\n",
      "\n",
      "Let the beauty of what you love be what you do. [Rumi]\n",
      "\n",
      "The time is always right to do what is right. [Martin Luther King, Jr.]\n",
      "\n",
      "Few are those who see with their own eyes and feel with their own hearts. [Einstein]\n",
      "\n",
      "In a gentle way, you can shake the world. [Gandhi]\n",
      "\n",
      "Feet, what do I need you for when I have wings to fly? [Frida Kahlo]\n",
      "\n",
      "What is done cannot be undone, but one can prevent it happening again. [Anne Frank]\n",
      "\n",
      "Wherever you are, and whatever you do, be in love. [Rumi]\n",
      "\n",
      "I paint flowers so they will not die. [Frida Kahlo]\n",
      "\n",
      "Only from the heart can you touch the sky. [Rumi]\n",
      "\n",
      "I hear and I forget. I see and I remember. I do and I understand. [Confucius]\n",
      "\n"
     ]
    }
   ],
   "source": [
    "file_path = \"quotes.txt\"\n",
    "my_file = open(file_path)\n",
    "\n",
    "for line in my_file.readlines():\n",
    "    print(line)"
   ]
  },
  {
   "cell_type": "markdown",
   "id": "ca60878e",
   "metadata": {},
   "source": [
    "Activity 2.1.2: read_single"
   ]
  },
  {
   "cell_type": "code",
   "execution_count": 8,
   "id": "a6fefbb6",
   "metadata": {},
   "outputs": [
    {
     "name": "stdout",
     "output_type": "stream",
     "text": [
      "No one has ever become poor by giving. [Anne Frank]\n",
      "\n",
      "What’s in a name? A rose by any other name would smell as sweet. [Shakespeare]\n",
      "\n",
      "Let the beauty of what you love be what you do. [Rumi]\n",
      "\n",
      "The time is always right to do what is right. [Martin Luther King, Jr.]\n",
      "\n",
      "Few are those who see with their own eyes and feel with their own hearts. [Einstein]\n",
      "\n",
      "In a gentle way, you can shake the world. [Gandhi]\n",
      "\n",
      "Feet, what do I need you for when I have wings to fly? [Frida Kahlo]\n",
      "\n",
      "What is done cannot be undone, but one can prevent it happening again. [Anne Frank]\n",
      "\n",
      "Wherever you are, and whatever you do, be in love. [Rumi]\n",
      "\n",
      "I paint flowers so they will not die. [Frida Kahlo]\n",
      "\n",
      "Only from the heart can you touch the sky. [Rumi]\n",
      "\n",
      "I hear and I forget. I see and I remember. I do and I understand. [Confucius]\n",
      "\n"
     ]
    }
   ],
   "source": [
    "file_path = \"quotes.txt\"\n",
    "my_file = open(file_path)\n",
    "\n",
    "e()"
   ]
  },
  {
   "cell_type": "code",
   "execution_count": null,
   "id": "26a8da69",
   "metadata": {},
   "outputs": [],
   "source": []
  }
 ],
 "metadata": {
  "kernelspec": {
   "display_name": "Python 3 (ipykernel)",
   "language": "python",
   "name": "python3"
  },
  "language_info": {
   "codemirror_mode": {
    "name": "ipython",
    "version": 3
   },
   "file_extension": ".py",
   "mimetype": "text/x-python",
   "name": "python",
   "nbconvert_exporter": "python",
   "pygments_lexer": "ipython3",
   "version": "3.9.12"
  }
 },
 "nbformat": 4,
 "nbformat_minor": 5
}
