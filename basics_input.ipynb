{
 "cells": [
  {
   "cell_type": "markdown",
   "id": "74e1dcba",
   "metadata": {},
   "source": [
    "Activity 2.2.1: user_input"
   ]
  },
  {
   "cell_type": "code",
   "execution_count": 1,
   "id": "84cf7072",
   "metadata": {},
   "outputs": [
    {
     "name": "stdout",
     "output_type": "stream",
     "text": [
      "What is your name human?\n",
      "Callum\n",
      "It is nice to meet you human Callum\n"
     ]
    }
   ],
   "source": [
    "# Asks the user to enter their name\n",
    "print(\"What is your name human?\")\n",
    "name = input()\n",
    "print(f\"It is nice to meet you human {name}\")"
   ]
  },
  {
   "cell_type": "code",
   "execution_count": 2,
   "id": "c33e0801",
   "metadata": {},
   "outputs": [
    {
     "name": "stdout",
     "output_type": "stream",
     "text": [
      "What is your name human?Callum\n"
     ]
    }
   ],
   "source": [
    "# Read in user's name\n",
    "name = input(\"What is your name human?\")"
   ]
  },
  {
   "cell_type": "markdown",
   "id": "bce4da79",
   "metadata": {},
   "source": [
    "Activity 2.2.2: Data Type"
   ]
  },
  {
   "cell_type": "code",
   "execution_count": 12,
   "id": "1e1c142a",
   "metadata": {},
   "outputs": [
    {
     "name": "stdout",
     "output_type": "stream",
     "text": [
      "What is your name human?CJ\n",
      "How old are you (In human years)?24\n",
      "How tall are you (In meters)?2\n",
      "How much do you weigh(In kilograms)?95\n",
      "CJ, you are 24 and your bmi is 23.75\n"
     ]
    }
   ],
   "source": [
    "name = input(\"What is your name human?\")\n",
    "age = input(\"How old are you (In human years)?\")\n",
    "height = input(\"How tall are you (In meters)?\")\n",
    "weight = input(\"How much do you weigh(In kilograms)?\")\n",
    "bmi = (int(weight) / (int(height) ** 2))\n",
    "print(f\"{name}, you are {age} and your bmi is {bmi}\")"
   ]
  },
  {
   "cell_type": "markdown",
   "id": "a5a28c9f",
   "metadata": {},
   "source": [
    "Activity 2.2.3: String operator"
   ]
  },
  {
   "cell_type": "code",
   "execution_count": 25,
   "id": "c8f46558",
   "metadata": {},
   "outputs": [
    {
     "name": "stdout",
     "output_type": "stream",
     "text": [
      "Please enter the number of lives.2\n",
      "Please enter the energy level1\n",
      "Please enter the shield level3\n",
      "Health has been set\n",
      "\n",
      "❤❤\n",
      "✦\n",
      "✦✦✦\n"
     ]
    }
   ],
   "source": [
    "lives = input(\"Please enter the number of lives.\")\n",
    "energy = input(\"Please enter the energy level\")\n",
    "shield =input(\"Please enter the shield level\")\n",
    "print(\"Health has been set\")\n",
    "print()\n",
    "print(int(lives) * \"❤\")\n",
    "print(int(energy) * \"✦\")\n",
    "print(int(shield) * \"✦\")"
   ]
  },
  {
   "cell_type": "code",
   "execution_count": null,
   "id": "35a1eee2",
   "metadata": {},
   "outputs": [],
   "source": []
  }
 ],
 "metadata": {
  "kernelspec": {
   "display_name": "Python 3 (ipykernel)",
   "language": "python",
   "name": "python3"
  },
  "language_info": {
   "codemirror_mode": {
    "name": "ipython",
    "version": 3
   },
   "file_extension": ".py",
   "mimetype": "text/x-python",
   "name": "python",
   "nbconvert_exporter": "python",
   "pygments_lexer": "ipython3",
   "version": "3.10.6"
  }
 },
 "nbformat": 4,
 "nbformat_minor": 5
}
