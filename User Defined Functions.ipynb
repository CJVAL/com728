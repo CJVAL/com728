{
 "cells": [
  {
   "cell_type": "markdown",
   "id": "5ee79f68",
   "metadata": {},
   "source": [
    "Activity 2.2.1: Simple_function"
   ]
  },
  {
   "cell_type": "code",
   "execution_count": 7,
   "id": "f656ffde",
   "metadata": {},
   "outputs": [
    {
     "name": "stdout",
     "output_type": "stream",
     "text": [
      "What was that sound?\n",
      "cum\n",
      "That was a loud cum\n"
     ]
    }
   ],
   "source": [
    "def listen():\n",
    "    print(\"What was that sound?\")\n",
    "    sound = input()\n",
    "    \n",
    "    print(f\"That was a loud {sound}\")\n",
    "    \n",
    "listen()"
   ]
  },
  {
   "cell_type": "markdown",
   "id": "caa75c2e",
   "metadata": {},
   "source": [
    "Activity 2.2.2: function_with_nesting"
   ]
  },
  {
   "cell_type": "code",
   "execution_count": 9,
   "id": "09e16c39",
   "metadata": {},
   "outputs": [
    {
     "name": "stdout",
     "output_type": "stream",
     "text": [
      "What do you see?\n",
      "shit\n",
      "We will be fine!\n"
     ]
    }
   ],
   "source": [
    "def identify():\n",
    "    print(\"What do you see?\")\n",
    "    sight = input()\n",
    "    if sight == 'a large boulder':\n",
    "        print(\"It's time to run!\")\n",
    "    else:\n",
    "        print(\"We will be fine!\")\n",
    "\n",
    "identify()"
   ]
  },
  {
   "cell_type": "markdown",
   "id": "84e6d17c",
   "metadata": {},
   "source": [
    "Activity 2.2.3: function_with_parameter"
   ]
  },
  {
   "cell_type": "code",
   "execution_count": 11,
   "id": "a296f234",
   "metadata": {},
   "outputs": [
    {
     "name": "stdout",
     "output_type": "stream",
     "text": [
      "We cannot escape that way! The boulder is too big!\n",
      "We cannot escape that way! The boulder is moving too fast!\n",
      "That might just work! Let's go deeper!\n"
     ]
    }
   ],
   "source": [
    "def escape_by(plan):\n",
    "    if plan == 'jumping over':\n",
    "        print(\"We cannot escape that way! The boulder is too big!\")\n",
    "    elif plan == 'running around':\n",
    "        print(\"We cannot escape that way! The boulder is moving too fast!\")\n",
    "    elif plan == 'going deeper':\n",
    "        print(\"That might just work! Let's go deeper!\")\n",
    "    else:\n",
    "        print(\"We cannot escape that way! The boulder is in the way!\")\n",
    "    \n",
    "escape_by(\"jumping over\")\n",
    "escape_by(\"running around\")\n",
    "escape_by(\"going deeper\") "
   ]
  },
  {
   "cell_type": "markdown",
   "id": "8e23713a",
   "metadata": {},
   "source": [
    "Activity 2.2.4: function_with_loop"
   ]
  },
  {
   "cell_type": "code",
   "execution_count": 15,
   "id": "4b5fab81",
   "metadata": {},
   "outputs": [
    {
     "name": "stdout",
     "output_type": "stream",
     "text": [
      "Crossed step\n",
      "Crossed step\n",
      "Crossed step\n",
      "Crossed step\n",
      "We must keep going!\n",
      "Crossed step\n",
      "Crossed step\n",
      "Crossed step\n",
      "Crossed step\n",
      "Crossed step\n",
      "Crossed step\n",
      "Crossed step\n",
      "The bridge is collapsing\n"
     ]
    }
   ],
   "source": [
    "def cross_bridge(steps):\n",
    "    for step in range(steps):\n",
    "        print(\"Crossed step\")\n",
    "    \n",
    "    if steps > 5:\n",
    "        print(\"The bridge is collapsing\")\n",
    "    else:\n",
    "        print(\"We must keep going!\")\n",
    "cross_bridge(4)\n",
    "cross_bridge(7)"
   ]
  },
  {
   "cell_type": "markdown",
   "id": "10b1f690",
   "metadata": {},
   "source": [
    "Activity 2.2.5: function_with_multi_parameters"
   ]
  },
  {
   "cell_type": "code",
   "execution_count": 16,
   "id": "c8efbbe3",
   "metadata": {},
   "outputs": [
    {
     "name": "stdout",
     "output_type": "stream",
     "text": [
      "Still some way to go\n",
      "We are almost there\n"
     ]
    }
   ],
   "source": [
    "def climb_ladder(steps_remaining,steps_crossed):\n",
    "    if steps_remaining > steps_crossed:\n",
    "        print(\"Still some way to go\")\n",
    "    else:\n",
    "        print(\"We are almost there\")\n",
    "\n",
    "climb_ladder(5,2)\n",
    "climb_ladder(1,2)"
   ]
  },
  {
   "cell_type": "code",
   "execution_count": null,
   "id": "5071871f",
   "metadata": {},
   "outputs": [],
   "source": []
  }
 ],
 "metadata": {
  "kernelspec": {
   "display_name": "Python 3 (ipykernel)",
   "language": "python",
   "name": "python3"
  },
  "language_info": {
   "codemirror_mode": {
    "name": "ipython",
    "version": 3
   },
   "file_extension": ".py",
   "mimetype": "text/x-python",
   "name": "python",
   "nbconvert_exporter": "python",
   "pygments_lexer": "ipython3",
   "version": "3.9.12"
  }
 },
 "nbformat": 4,
 "nbformat_minor": 5
}
