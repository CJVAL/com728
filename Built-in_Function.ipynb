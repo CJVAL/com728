{
 "cells": [
  {
   "cell_type": "markdown",
   "id": "4817fe0e",
   "metadata": {},
   "source": [
    "Activity 2.1.1: ascii_code"
   ]
  },
  {
   "cell_type": "code",
   "execution_count": null,
   "id": "8c061995",
   "metadata": {},
   "outputs": [],
   "source": [
    "print(\"Program started!\")\n",
    "print(\"Please enter a standard character\")\n",
    "\n",
    "character = input()\n",
    "\n",
    "if len(character) == 1:\n",
    "    print(f\"The ASCII code letter for {character} is {ord(character)}\")\n",
    "else:\n",
    "    print(\"Only enter 1 character\")\n",
    "    \n",
    "print(\"Program ended!\")"
   ]
  },
  {
   "cell_type": "markdown",
   "id": "fc80814e",
   "metadata": {},
   "source": [
    "Activity 2.1.2: ascii_character"
   ]
  },
  {
   "cell_type": "code",
   "execution_count": 9,
   "id": "fa4640ad",
   "metadata": {},
   "outputs": [
    {
     "name": "stdout",
     "output_type": "stream",
     "text": [
      "Program started!\n",
      "Please enter an ASCII code\n",
      "54\n",
      "The character from ASCII code 54 is 6\n",
      "Program ended\n"
     ]
    }
   ],
   "source": [
    "print(\"Program started!\")\n",
    "print(\"Please enter an ASCII code\")\n",
    "\n",
    "code = int(input())\n",
    "\n",
    "if code in range(32,127):\n",
    "    print(f\"The character from ASCII code {code} is {chr(code)}\")\n",
    "else: \n",
    "    print(f\"The code {code} can not be displayed!\")\n",
    "\n",
    "print(\"Program ended\")"
   ]
  },
  {
   "cell_type": "code",
   "execution_count": null,
   "id": "e280e281",
   "metadata": {},
   "outputs": [],
   "source": []
  }
 ],
 "metadata": {
  "kernelspec": {
   "display_name": "Python 3 (ipykernel)",
   "language": "python",
   "name": "python3"
  },
  "language_info": {
   "codemirror_mode": {
    "name": "ipython",
    "version": 3
   },
   "file_extension": ".py",
   "mimetype": "text/x-python",
   "name": "python",
   "nbconvert_exporter": "python",
   "pygments_lexer": "ipython3",
   "version": "3.9.12"
  }
 },
 "nbformat": 4,
 "nbformat_minor": 5
}
